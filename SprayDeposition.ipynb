{
 "cells": [
  {
   "cell_type": "code",
   "execution_count": 1,
   "id": "8ded3e53",
   "metadata": {},
   "outputs": [],
   "source": [
    "import cv2\n",
    "import matplotlib.pyplot as plt\n",
    "import numpy as np\n",
    "import os\n",
    "import pandas as pd\n"
   ]
  },
  {
   "cell_type": "code",
   "execution_count": 2,
   "id": "ce1e3995",
   "metadata": {},
   "outputs": [],
   "source": [
    "img_path = r'Merged-images/img242.jpg'\n",
    "img = cv2.imread(img_path)"
   ]
  },
  {
   "cell_type": "code",
   "execution_count": 3,
   "id": "e90f5f35",
   "metadata": {
    "scrolled": false
   },
   "outputs": [],
   "source": [
    "#plt.imshow(img)\n"
   ]
  },
  {
   "cell_type": "code",
   "execution_count": 4,
   "id": "c67c8caf",
   "metadata": {},
   "outputs": [],
   "source": [
    "#plt.imshow(cropped_image)"
   ]
  },
  {
   "cell_type": "code",
   "execution_count": 5,
   "id": "ae823e5f",
   "metadata": {},
   "outputs": [],
   "source": [
    "def img2binary(img_path,threshold=135):\n",
    "    \"\"\"This function takes in an image path /(relative or absolute/) as a string and converts it to a binary mask\"\"\"\n",
    "    img = cv2.imread(img_path)\n",
    "    imgray = cv2.cvtColor(img,cv2.cv2.COLOR_BGR2GRAY)\n",
    "    _,binary = cv2.threshold(imgray,threshold,255,cv2.THRESH_BINARY_INV)\n",
    "    return binary"
   ]
  },
  {
   "cell_type": "code",
   "execution_count": 6,
   "id": "e8f47fcd",
   "metadata": {},
   "outputs": [],
   "source": [
    "def binaryStats(binary):\n",
    "    \"\"\"This function takes in a binary image and returns the percent cover of white pixels and a sorted contour list\"\"\"\n",
    "    white_pix = np.sum(binary == 255)\n",
    "    black_pix = np.sum(binary == 0)\n",
    "    total = binary.shape[0]*binary.shape[1]\n",
    "    percentcover = (white_pix/total)*100\n",
    "    contours, _ = cv2.findContours(binary, cv2.RETR_CCOMP, cv2.CHAIN_APPROX_SIMPLE)\n",
    "    cnt = sorted(contours, key=cv2.contourArea)\n",
    "    return percentcover, cnt"
   ]
  },
  {
   "cell_type": "code",
   "execution_count": 7,
   "id": "c1cd07fb",
   "metadata": {},
   "outputs": [],
   "source": [
    "directory = 'Merged-images'"
   ]
  },
  {
   "cell_type": "code",
   "execution_count": 467,
   "id": "b5fb790f",
   "metadata": {},
   "outputs": [],
   "source": [
    "#pcarray = []\n",
    "contours=[]\n",
    "dpi=300\n",
    "for filename in os.listdir(directory):\n",
    "    f = os.path.join(directory, filename)\n",
    "    # checking if it is a file\n",
    "    if os.path.isfile(f):\n",
    "        binary=img2binary(f,154)\n",
    "        binary2 = binary[0:3300, 250:2552]\n",
    "        total = binary2.shape[0]*binary2.shape[1]\n",
    "        PC,cnt = binaryStats(binary2)\n",
    "        #pcarray.append(PC)\n",
    "        contours.append([filename,PC,cnt,[round(20*(np.sqrt(((cv2.contourArea(i)+1)*84.667)/np.pi)),4)for i in cnt]])"
   ]
  },
  {
   "cell_type": "code",
   "execution_count": 440,
   "id": "91cc0186",
   "metadata": {},
   "outputs": [],
   "source": [
    "#imgID"
   ]
  },
  {
   "cell_type": "code",
   "execution_count": 441,
   "id": "b56129ed",
   "metadata": {},
   "outputs": [],
   "source": [
    "#pcarray"
   ]
  },
  {
   "cell_type": "code",
   "execution_count": 442,
   "id": "3666b63b",
   "metadata": {},
   "outputs": [],
   "source": [
    "#df = pd.DataFrame(list(zip(*imgID))[1],index=list(zip(*imgID))[0])"
   ]
  },
  {
   "cell_type": "code",
   "execution_count": 443,
   "id": "04444fe3",
   "metadata": {},
   "outputs": [],
   "source": [
    "#df.to_excel('threshold.xlsx',df)"
   ]
  },
  {
   "cell_type": "code",
   "execution_count": 468,
   "id": "68d53b99",
   "metadata": {},
   "outputs": [],
   "source": [
    "df2 = pd.DataFrame(contours,columns=['imageID','PercentCover','contours','diameter(um)'])"
   ]
  },
  {
   "cell_type": "code",
   "execution_count": 469,
   "id": "3e51783e",
   "metadata": {},
   "outputs": [],
   "source": [
    "#len(df2['areas(um)'][1])"
   ]
  },
  {
   "cell_type": "code",
   "execution_count": 470,
   "id": "53024f65",
   "metadata": {},
   "outputs": [],
   "source": [
    "df2['count']=df2['diameter(um)'].str.len()"
   ]
  },
  {
   "cell_type": "code",
   "execution_count": 479,
   "id": "d214cc6d",
   "metadata": {},
   "outputs": [],
   "source": [
    "df3=df2.drop('contours', axis=1)"
   ]
  },
  {
   "cell_type": "code",
   "execution_count": 480,
   "id": "7cae0b42",
   "metadata": {},
   "outputs": [],
   "source": [
    "df3=df3.sort_values('imageID')"
   ]
  },
  {
   "cell_type": "code",
   "execution_count": 481,
   "id": "12389454",
   "metadata": {
    "scrolled": true
   },
   "outputs": [],
   "source": [
    "#df3['imageID']"
   ]
  },
  {
   "cell_type": "code",
   "execution_count": 482,
   "id": "de054259",
   "metadata": {},
   "outputs": [],
   "source": [
    "df3['median_diam(um)']=df3['imageID']\n",
    "df3['mean_diam']=df3['imageID']\n",
    "df3['10th_diam']=df3['imageID']\n",
    "df3['90th_diam']=df3['imageID']\n",
    "df3['min_diam']=df3['imageID']\n",
    "df3['max_diam']=df3['imageID']"
   ]
  },
  {
   "cell_type": "code",
   "execution_count": 483,
   "id": "71178665",
   "metadata": {},
   "outputs": [
    {
     "name": "stderr",
     "output_type": "stream",
     "text": [
      "/var/folders/nt/yd6hw88x2z13hqqdd6x5xgp00000gn/T/ipykernel_95758/2165573647.py:2: SettingWithCopyWarning: \n",
      "A value is trying to be set on a copy of a slice from a DataFrame\n",
      "\n",
      "See the caveats in the documentation: https://pandas.pydata.org/pandas-docs/stable/user_guide/indexing.html#returning-a-view-versus-a-copy\n",
      "  df3['median_diam(um)'][i]=np.median(df3['diameter(um)'][i])\n",
      "/var/folders/nt/yd6hw88x2z13hqqdd6x5xgp00000gn/T/ipykernel_95758/2165573647.py:3: SettingWithCopyWarning: \n",
      "A value is trying to be set on a copy of a slice from a DataFrame\n",
      "\n",
      "See the caveats in the documentation: https://pandas.pydata.org/pandas-docs/stable/user_guide/indexing.html#returning-a-view-versus-a-copy\n",
      "  df3['mean_diam'][i]=np.mean(df3['diameter(um)'][i])\n",
      "/var/folders/nt/yd6hw88x2z13hqqdd6x5xgp00000gn/T/ipykernel_95758/2165573647.py:4: SettingWithCopyWarning: \n",
      "A value is trying to be set on a copy of a slice from a DataFrame\n",
      "\n",
      "See the caveats in the documentation: https://pandas.pydata.org/pandas-docs/stable/user_guide/indexing.html#returning-a-view-versus-a-copy\n",
      "  df3['10th_diam'][i]=df3['diameter(um)'][i][int(len(df3['diameter(um)'][i])*.1)]\n",
      "/var/folders/nt/yd6hw88x2z13hqqdd6x5xgp00000gn/T/ipykernel_95758/2165573647.py:5: SettingWithCopyWarning: \n",
      "A value is trying to be set on a copy of a slice from a DataFrame\n",
      "\n",
      "See the caveats in the documentation: https://pandas.pydata.org/pandas-docs/stable/user_guide/indexing.html#returning-a-view-versus-a-copy\n",
      "  df3['90th_diam'][i]=df3['diameter(um)'][i][int(len(df3['diameter(um)'][i])*.9)]\n",
      "/var/folders/nt/yd6hw88x2z13hqqdd6x5xgp00000gn/T/ipykernel_95758/2165573647.py:6: SettingWithCopyWarning: \n",
      "A value is trying to be set on a copy of a slice from a DataFrame\n",
      "\n",
      "See the caveats in the documentation: https://pandas.pydata.org/pandas-docs/stable/user_guide/indexing.html#returning-a-view-versus-a-copy\n",
      "  df3['min_diam'][i]=np.min(df3['diameter(um)'][i])\n",
      "/var/folders/nt/yd6hw88x2z13hqqdd6x5xgp00000gn/T/ipykernel_95758/2165573647.py:7: SettingWithCopyWarning: \n",
      "A value is trying to be set on a copy of a slice from a DataFrame\n",
      "\n",
      "See the caveats in the documentation: https://pandas.pydata.org/pandas-docs/stable/user_guide/indexing.html#returning-a-view-versus-a-copy\n",
      "  df3['max_diam'][i]=np.max(df3['diameter(um)'][i])\n"
     ]
    }
   ],
   "source": [
    "for i in range(0,len(df3)):\n",
    "    df3['median_diam(um)'][i]=np.median(df3['diameter(um)'][i])\n",
    "    df3['mean_diam'][i]=np.mean(df3['diameter(um)'][i])\n",
    "    df3['10th_diam'][i]=df3['diameter(um)'][i][int(len(df3['diameter(um)'][i])*.1)]\n",
    "    df3['90th_diam'][i]=df3['diameter(um)'][i][int(len(df3['diameter(um)'][i])*.9)]\n",
    "    df3['min_diam'][i]=np.min(df3['diameter(um)'][i])\n",
    "    df3['max_diam'][i]=np.max(df3['diameter(um)'][i])"
   ]
  },
  {
   "cell_type": "code",
   "execution_count": 484,
   "id": "f8fc6407",
   "metadata": {
    "scrolled": true
   },
   "outputs": [],
   "source": [
    "#df3"
   ]
  },
  {
   "cell_type": "code",
   "execution_count": 485,
   "id": "75ee57dc",
   "metadata": {},
   "outputs": [],
   "source": [
    "df4=df3.drop('diameter(um)', axis=1)"
   ]
  },
  {
   "cell_type": "code",
   "execution_count": 491,
   "id": "672567d9",
   "metadata": {},
   "outputs": [
    {
     "data": {
      "text/plain": [
       "251.81251910411083"
      ]
     },
     "execution_count": 491,
     "metadata": {},
     "output_type": "execute_result"
    }
   ],
   "source": [
    "np.median(df4['mean_diam'])"
   ]
  },
  {
   "cell_type": "code",
   "execution_count": 496,
   "id": "d5390e2a",
   "metadata": {},
   "outputs": [
    {
     "data": {
      "text/plain": [
       "64    [103.8274, 103.8274, 103.8274, 103.8274, 103.8...\n",
       "Name: diameter(um), dtype: object"
      ]
     },
     "execution_count": 496,
     "metadata": {},
     "output_type": "execute_result"
    }
   ],
   "source": [
    "test=df3.loc[df3['imageID']=='img369.jpg','diameter(um)']\n",
    "#_=plt.hist(test,bins=200)\n",
    "test"
   ]
  },
  {
   "cell_type": "code",
   "execution_count": 153,
   "id": "c18db9a8",
   "metadata": {},
   "outputs": [
    {
     "data": {
      "text/plain": [
       "41.0634"
      ]
     },
     "execution_count": 153,
     "metadata": {},
     "output_type": "execute_result"
    }
   ],
   "source": [
    "#max(df3['areas(um)'][0])"
   ]
  },
  {
   "cell_type": "code",
   "execution_count": 488,
   "id": "9e1d4cfb",
   "metadata": {},
   "outputs": [],
   "source": [
    "df4.to_excel('spray_size_sheet_diameter.xlsx')"
   ]
  },
  {
   "cell_type": "code",
   "execution_count": 376,
   "id": "e9bbe043",
   "metadata": {},
   "outputs": [],
   "source": [
    "img_path = r'/Users/calebhenderson/Documents/SprayDep/Merged-images/img179.jpg'\n",
    "img = cv2.imread(img_path)"
   ]
  },
  {
   "cell_type": "code",
   "execution_count": 377,
   "id": "9fbdf5f6",
   "metadata": {},
   "outputs": [],
   "source": [
    "binary = img2binary(img_path,154)"
   ]
  },
  {
   "cell_type": "code",
   "execution_count": 378,
   "id": "058f4de6",
   "metadata": {},
   "outputs": [],
   "source": [
    "pc,contours = binaryStats(binary)"
   ]
  },
  {
   "cell_type": "code",
   "execution_count": 379,
   "id": "ad94f401",
   "metadata": {},
   "outputs": [],
   "source": [
    "_=cv2.drawContours(img, contours, -1, (0,0,255),2)"
   ]
  },
  {
   "cell_type": "code",
   "execution_count": 380,
   "id": "3cd2e6ac",
   "metadata": {},
   "outputs": [],
   "source": [
    "#plt.imshow(img)"
   ]
  },
  {
   "cell_type": "code",
   "execution_count": 381,
   "id": "05924985",
   "metadata": {},
   "outputs": [
    {
     "data": {
      "text/plain": [
       "True"
      ]
     },
     "execution_count": 381,
     "metadata": {},
     "output_type": "execute_result"
    }
   ],
   "source": [
    "cv2.imwrite('this.png',img)"
   ]
  },
  {
   "cell_type": "code",
   "execution_count": 382,
   "id": "61b60945",
   "metadata": {},
   "outputs": [],
   "source": [
    "cnt = [cv2.contourArea(i)+1 for i in contours[:-3]]"
   ]
  },
  {
   "cell_type": "code",
   "execution_count": 383,
   "id": "6dc27e6c",
   "metadata": {},
   "outputs": [
    {
     "data": {
      "image/png": "[encoded data removed]",
      "text/plain": [
       "<Figure size 432x288 with 1 Axes>"
      ]
     },
     "metadata": {
      "needs_background": "light"
     },
     "output_type": "display_data"
    }
   ],
   "source": [
    "_=plt.hist(cnt,bins=200)"
   ]
  },
  {
   "cell_type": "code",
   "execution_count": null,
   "id": "1598c733",
   "metadata": {},
   "outputs": [],
   "source": []
  }
 ],
 "metadata": {
  "kernelspec": {
   "display_name": "Python 3 (ipykernel)",
   "language": "python",
   "name": "python3"
  },
  "language_info": {
   "codemirror_mode": {
    "name": "ipython",
    "version": 3
   },
   "file_extension": ".py",
   "mimetype": "text/x-python",
   "name": "python",
   "nbconvert_exporter": "python",
   "pygments_lexer": "ipython3",
   "version": "3.9.9"
  }
 },
 "nbformat": 4,
 "nbformat_minor": 5
}
